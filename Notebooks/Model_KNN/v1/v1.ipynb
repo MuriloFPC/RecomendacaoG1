{
 "cells": [
  {
   "cell_type": "code",
   "id": "initial_id",
   "metadata": {
    "collapsed": true,
    "ExecuteTime": {
     "end_time": "2025-02-08T03:28:19.303138Z",
     "start_time": "2025-02-08T03:28:17.829117Z"
    }
   },
   "source": [
    "import os\n",
    "import pandas as pd\n",
    "import numpy as np\n",
    "from sklearn.feature_extraction.text import TfidfVectorizer\n",
    "from sklearn.metrics.pairwise import cosine_similarity\n",
    "from sklearn.neighbors import NearestNeighbors\n",
    "import faiss\n",
    "from sklearn.decomposition import TruncatedSVD\n"
   ],
   "outputs": [],
   "execution_count": 1
  },
  {
   "metadata": {
    "ExecuteTime": {
     "end_time": "2025-02-08T03:28:19.315293Z",
     "start_time": "2025-02-08T03:28:19.312145Z"
    }
   },
   "cell_type": "code",
   "source": [
    "# VAR ENV\n",
    "news_folder = '../Data/itens/itens'\n",
    "user_news_folder = '../Data/files/treino'\n"
   ],
   "id": "7cca056ae29d33b5",
   "outputs": [],
   "execution_count": 2
  },
  {
   "metadata": {
    "ExecuteTime": {
     "end_time": "2025-02-08T03:28:19.322593Z",
     "start_time": "2025-02-08T03:28:19.319305Z"
    }
   },
   "cell_type": "code",
   "source": [
    "def read_all_csv_files_in_folder(folder_path):\n",
    "    # List to hold DataFrames\n",
    "    dataframes = []\n",
    "\n",
    "    # Iterate over all files in the folder\n",
    "    for file in os.listdir(folder_path):\n",
    "        if file.endswith('.csv'):\n",
    "            file_path = os.path.join(folder_path, file)\n",
    "            # Read the CSV file and append the DataFrame to the list\n",
    "            df = pd.read_csv(file_path)\n",
    "            dataframes.append(df)\n",
    "\n",
    "    # Concatenate all DataFrames into a single DataFrame\n",
    "    combined_df = pd.concat(dataframes, ignore_index=True)\n",
    "    return combined_df"
   ],
   "id": "86757c930550706d",
   "outputs": [],
   "execution_count": 3
  },
  {
   "metadata": {
    "ExecuteTime": {
     "end_time": "2025-02-08T03:28:25.173790Z",
     "start_time": "2025-02-08T03:28:19.325610Z"
    }
   },
   "cell_type": "code",
   "source": "user_interactions = read_all_csv_files_in_folder(user_news_folder)",
   "id": "bff3f60ae62c92f3",
   "outputs": [],
   "execution_count": 4
  },
  {
   "metadata": {
    "ExecuteTime": {
     "end_time": "2025-02-08T03:28:33.696302Z",
     "start_time": "2025-02-08T03:28:25.338445Z"
    }
   },
   "cell_type": "code",
   "source": "news_data = read_all_csv_files_in_folder(news_folder)",
   "id": "a224e96cdda03f6",
   "outputs": [],
   "execution_count": 5
  },
  {
   "metadata": {
    "ExecuteTime": {
     "end_time": "2025-02-08T03:28:36.160537Z",
     "start_time": "2025-02-08T03:28:33.714910Z"
    }
   },
   "cell_type": "code",
   "source": [
    "news_data[\"content\"] = news_data[\"title\"] + \" \" + news_data[\"body\"] + \" \" + news_data[\"caption\"]\n",
    "news_data.head()"
   ],
   "id": "9a827acb8b6fa753",
   "outputs": [
    {
     "data": {
      "text/plain": [
       "                                   page  \\\n",
       "0  13db0ab1-eea2-4603-84c4-f40a876c7400   \n",
       "1  92907b73-5cd3-4184-8d8c-e206aed2bf1c   \n",
       "2  61e07f64-cddf-46f2-b50c-ea0a39c22050   \n",
       "3  30e2e6c5-554a-48ed-a35f-6c6691c8ac9b   \n",
       "4  9dff71eb-b681-40c7-ac8d-68017ac36675   \n",
       "\n",
       "                                                 url  \\\n",
       "0  http://g1.globo.com/am/amazonas/noticia/2022/0...   \n",
       "1  http://g1.globo.com/pa/santarem-regiao/noticia...   \n",
       "2  http://g1.globo.com/mundo/noticia/2022/07/08/e...   \n",
       "3  http://g1.globo.com/politica/noticia/2021/09/0...   \n",
       "4  http://g1.globo.com/politica/noticia/2021/09/1...   \n",
       "\n",
       "                      issued                   modified  \\\n",
       "0  2022-06-18 20:37:45+00:00  2023-04-15 00:02:08+00:00   \n",
       "1  2019-06-20 17:19:52+00:00  2023-06-16 20:19:15+00:00   \n",
       "2  2022-07-08 08:55:52+00:00  2023-04-15 04:25:39+00:00   \n",
       "3  2021-09-09 19:06:46+00:00  2023-06-07 17:44:54+00:00   \n",
       "4  2021-09-15 19:16:13+00:00  2023-06-07 17:43:39+00:00   \n",
       "\n",
       "                                               title  \\\n",
       "0  Caso Bruno e Dom: 3º suspeito tem prisão tempo...   \n",
       "1  Linguajar dos santarenos é diferenciado e chei...   \n",
       "2  Ex-premiê Shinzo Abe morre após ser baleado no...   \n",
       "3  Relator no STF, Fachin vota contra marco tempo...   \n",
       "4  \\nApós 2 votos, pedido de vista suspende julga...   \n",
       "\n",
       "                                                body  \\\n",
       "0  Após audiência de custódia, a Justiça do Amazo...   \n",
       "1  Vista aérea de Santarém\\nÁdrio Denner/ AD Prod...   \n",
       "2  Novo vídeo mostra que assassino de Shinzo Abe ...   \n",
       "3  Relator no STF, Fachin vota contra marco tempo...   \n",
       "4  Após um pedido de vista (mais tempo para análi...   \n",
       "\n",
       "                                             caption  \\\n",
       "0  Jeferson da Silva Lima foi escoltado por agent...   \n",
       "1  As expressões santarenas não significam apenas...   \n",
       "2  Ex-primeiro-ministro foi atingido por tiros de...   \n",
       "3  Ministro defendeu que posse indígena é diferen...   \n",
       "4  Pelo marco temporal, índios só podem reivindic...   \n",
       "\n",
       "                                             content  \n",
       "0  Caso Bruno e Dom: 3º suspeito tem prisão tempo...  \n",
       "1  Linguajar dos santarenos é diferenciado e chei...  \n",
       "2  Ex-premiê Shinzo Abe morre após ser baleado no...  \n",
       "3  Relator no STF, Fachin vota contra marco tempo...  \n",
       "4  \\nApós 2 votos, pedido de vista suspende julga...  "
      ],
      "text/html": [
       "<div>\n",
       "<style scoped>\n",
       "    .dataframe tbody tr th:only-of-type {\n",
       "        vertical-align: middle;\n",
       "    }\n",
       "\n",
       "    .dataframe tbody tr th {\n",
       "        vertical-align: top;\n",
       "    }\n",
       "\n",
       "    .dataframe thead th {\n",
       "        text-align: right;\n",
       "    }\n",
       "</style>\n",
       "<table border=\"1\" class=\"dataframe\">\n",
       "  <thead>\n",
       "    <tr style=\"text-align: right;\">\n",
       "      <th></th>\n",
       "      <th>page</th>\n",
       "      <th>url</th>\n",
       "      <th>issued</th>\n",
       "      <th>modified</th>\n",
       "      <th>title</th>\n",
       "      <th>body</th>\n",
       "      <th>caption</th>\n",
       "      <th>content</th>\n",
       "    </tr>\n",
       "  </thead>\n",
       "  <tbody>\n",
       "    <tr>\n",
       "      <th>0</th>\n",
       "      <td>13db0ab1-eea2-4603-84c4-f40a876c7400</td>\n",
       "      <td>http://g1.globo.com/am/amazonas/noticia/2022/0...</td>\n",
       "      <td>2022-06-18 20:37:45+00:00</td>\n",
       "      <td>2023-04-15 00:02:08+00:00</td>\n",
       "      <td>Caso Bruno e Dom: 3º suspeito tem prisão tempo...</td>\n",
       "      <td>Após audiência de custódia, a Justiça do Amazo...</td>\n",
       "      <td>Jeferson da Silva Lima foi escoltado por agent...</td>\n",
       "      <td>Caso Bruno e Dom: 3º suspeito tem prisão tempo...</td>\n",
       "    </tr>\n",
       "    <tr>\n",
       "      <th>1</th>\n",
       "      <td>92907b73-5cd3-4184-8d8c-e206aed2bf1c</td>\n",
       "      <td>http://g1.globo.com/pa/santarem-regiao/noticia...</td>\n",
       "      <td>2019-06-20 17:19:52+00:00</td>\n",
       "      <td>2023-06-16 20:19:15+00:00</td>\n",
       "      <td>Linguajar dos santarenos é diferenciado e chei...</td>\n",
       "      <td>Vista aérea de Santarém\\nÁdrio Denner/ AD Prod...</td>\n",
       "      <td>As expressões santarenas não significam apenas...</td>\n",
       "      <td>Linguajar dos santarenos é diferenciado e chei...</td>\n",
       "    </tr>\n",
       "    <tr>\n",
       "      <th>2</th>\n",
       "      <td>61e07f64-cddf-46f2-b50c-ea0a39c22050</td>\n",
       "      <td>http://g1.globo.com/mundo/noticia/2022/07/08/e...</td>\n",
       "      <td>2022-07-08 08:55:52+00:00</td>\n",
       "      <td>2023-04-15 04:25:39+00:00</td>\n",
       "      <td>Ex-premiê Shinzo Abe morre após ser baleado no...</td>\n",
       "      <td>Novo vídeo mostra que assassino de Shinzo Abe ...</td>\n",
       "      <td>Ex-primeiro-ministro foi atingido por tiros de...</td>\n",
       "      <td>Ex-premiê Shinzo Abe morre após ser baleado no...</td>\n",
       "    </tr>\n",
       "    <tr>\n",
       "      <th>3</th>\n",
       "      <td>30e2e6c5-554a-48ed-a35f-6c6691c8ac9b</td>\n",
       "      <td>http://g1.globo.com/politica/noticia/2021/09/0...</td>\n",
       "      <td>2021-09-09 19:06:46+00:00</td>\n",
       "      <td>2023-06-07 17:44:54+00:00</td>\n",
       "      <td>Relator no STF, Fachin vota contra marco tempo...</td>\n",
       "      <td>Relator no STF, Fachin vota contra marco tempo...</td>\n",
       "      <td>Ministro defendeu que posse indígena é diferen...</td>\n",
       "      <td>Relator no STF, Fachin vota contra marco tempo...</td>\n",
       "    </tr>\n",
       "    <tr>\n",
       "      <th>4</th>\n",
       "      <td>9dff71eb-b681-40c7-ac8d-68017ac36675</td>\n",
       "      <td>http://g1.globo.com/politica/noticia/2021/09/1...</td>\n",
       "      <td>2021-09-15 19:16:13+00:00</td>\n",
       "      <td>2023-06-07 17:43:39+00:00</td>\n",
       "      <td>\\nApós 2 votos, pedido de vista suspende julga...</td>\n",
       "      <td>Após um pedido de vista (mais tempo para análi...</td>\n",
       "      <td>Pelo marco temporal, índios só podem reivindic...</td>\n",
       "      <td>\\nApós 2 votos, pedido de vista suspende julga...</td>\n",
       "    </tr>\n",
       "  </tbody>\n",
       "</table>\n",
       "</div>"
      ]
     },
     "execution_count": 6,
     "metadata": {},
     "output_type": "execute_result"
    }
   ],
   "execution_count": 6
  },
  {
   "metadata": {
    "ExecuteTime": {
     "end_time": "2025-02-08T03:28:36.677313Z",
     "start_time": "2025-02-08T03:28:36.177544Z"
    }
   },
   "cell_type": "code",
   "source": [
    "import nltk\n",
    "from nltk.corpus import stopwords\n",
    "\n",
    "nltk.download(\"stopwords\")  # Baixar a lista de stop words\n",
    "stop_words_pt = stopwords.words(\"portuguese\")  # Carregar stop words do PT-BR\n"
   ],
   "id": "64485a28999b6128",
   "outputs": [
    {
     "name": "stderr",
     "output_type": "stream",
     "text": [
      "[nltk_data] Downloading package stopwords to\n",
      "[nltk_data]     C:\\Users\\muril\\AppData\\Roaming\\nltk_data...\n",
      "[nltk_data]   Package stopwords is already up-to-date!\n"
     ]
    }
   ],
   "execution_count": 7
  },
  {
   "metadata": {
    "ExecuteTime": {
     "end_time": "2025-02-08T03:29:28.292120Z",
     "start_time": "2025-02-08T03:28:36.712493Z"
    }
   },
   "cell_type": "code",
   "source": [
    "# Vetorização do conteúdo das notícias\n",
    "vectorizer = TfidfVectorizer(stop_words=stop_words_pt, max_features=50000)\n",
    "tfidf_matrix = vectorizer.fit_transform(news_data[\"content\"])"
   ],
   "id": "20a6189066e9ad19",
   "outputs": [],
   "execution_count": 8
  },
  {
   "metadata": {
    "ExecuteTime": {
     "end_time": "2025-02-08T03:31:14.565469Z",
     "start_time": "2025-02-08T03:29:28.316060Z"
    }
   },
   "cell_type": "code",
   "source": [
    "# Reduzir para 300 dimensões (ou ajuste para seu caso)\n",
    "svd = TruncatedSVD(n_components=300)\n",
    "tfidf_reduced = svd.fit_transform(tfidf_matrix)"
   ],
   "id": "5ae189b831280346",
   "outputs": [],
   "execution_count": 9
  },
  {
   "metadata": {
    "ExecuteTime": {
     "end_time": "2025-02-08T03:31:14.835671Z",
     "start_time": "2025-02-08T03:31:14.590279Z"
    }
   },
   "cell_type": "code",
   "source": [
    "# Criar índice FAISS com a matriz reduzida\n",
    "#index = faiss.IndexFlatL2(tfidf_reduced.shape[1])\n",
    "#index.add(tfidf_reduced.astype(\"float32\"))\n",
    "index = faiss.read_index(\"faiss_index.bin\")\n"
   ],
   "id": "df921840c5407f00",
   "outputs": [],
   "execution_count": 10
  },
  {
   "metadata": {
    "ExecuteTime": {
     "end_time": "2025-02-08T03:31:18.206933Z",
     "start_time": "2025-02-08T03:31:14.843686Z"
    }
   },
   "cell_type": "code",
   "source": [
    "# Criando um dicionário para mapear IDs das notícias\n",
    "news_index = {news_data.iloc[i][\"page\"]: i for i in range(len(news_data))}"
   ],
   "id": "50b43acad3777d01",
   "outputs": [],
   "execution_count": 11
  },
  {
   "metadata": {
    "ExecuteTime": {
     "end_time": "2025-02-08T03:58:01.241678Z",
     "start_time": "2025-02-08T03:56:50.769395Z"
    }
   },
   "cell_type": "code",
   "source": [
    "def recommend_news_faiss(user_id, user_interactions, index, news_data, top_n=5):\n",
    "    \"\"\"\n",
    "    Gera recomendações de notícias para um usuário usando FAISS.\n",
    "\n",
    "    user_id: ID do usuário\n",
    "    user_interactions: Dicionário {user_id: [lista de notícias lidas]}\n",
    "    index: Índice FAISS treinado\n",
    "    news_data: DataFrame com notícias\n",
    "    top_n: Número de recomendações desejadas\n",
    "    \n",
    "    \"\"\"\n",
    "\n",
    "    # Verifica se o usuário existe no dataset\n",
    "    if user_id not in user_interactions:\n",
    "        return \"Usuário não encontrado.\"\n",
    "\n",
    "    read_news = user_interactions[user_id]  # Notícias que o usuário já leu\n",
    "    print(len(read_news))\n",
    "    if not read_news:\n",
    "        return \"Nenhuma notícia lida por esse usuário.\"\n",
    "\n",
    "    # Converter lista de IDs de notícias para índices da matriz TF-IDF\n",
    "    read_indices = [news_index[nid] for nid in read_news if nid in news_index]\n",
    "    print(len(read_indices))\n",
    "    if not read_indices:\n",
    "        return \"Não há notícias válidas no histórico do usuário.\"\n",
    "\n",
    "    # Pegar os vetores das notícias que ele já leu\n",
    "    read_vectors = tfidf_reduced[read_indices]\n",
    "    print(len(read_vectors))\n",
    "    # Buscar as notícias mais similares no índice FAISS\n",
    "    _, I = index.search(read_vectors, top_n + len(read_news))  # Pegamos mais para remover duplicatas\n",
    "\n",
    "    # Coletar os IDs das recomendações, excluindo as que já foram lidas\n",
    "    recommended_news = []\n",
    "    for news_indices in I:\n",
    "        for idx in news_indices:\n",
    "            news_id = news_data.iloc[idx][\"page\"]\n",
    "            if news_id not in read_news and news_id not in recommended_news:\n",
    "                recommended_news.append(news_id)\n",
    "            if len(recommended_news) >= top_n:\n",
    "                break\n",
    "\n",
    "    return recommended_news if recommended_news else \"Nenhuma recomendação disponível.\"\n",
    "\n"
   ],
   "id": "9de31ce7691ef98a",
   "outputs": [
    {
     "name": "stdout",
     "output_type": "stream",
     "text": [
      "107\n",
      "107\n",
      "107\n"
     ]
    }
   ],
   "execution_count": 35
  },
  {
   "metadata": {
    "ExecuteTime": {
     "end_time": "2025-02-08T03:31:18.345175Z",
     "start_time": "2025-02-08T03:31:18.338151Z"
    }
   },
   "cell_type": "code",
   "source": "user_interactions.head()",
   "id": "fc998d87669eb763",
   "outputs": [
    {
     "data": {
      "text/plain": [
       "                                              userId    userType  historySize  \\\n",
       "0  f98d1132f60d46883ce49583257104d15ce723b3bbda21...  Non-Logged            3   \n",
       "1  2c1080975e257ed630e26679edbe4d5c850c65f3e09f65...  Non-Logged           60   \n",
       "2  0adffd7450d3b9840d8c6215f0569ad942e782fb19b805...      Logged          107   \n",
       "3  c1e8d644329a78ea1f994292db624c57980b2886cfbc2d...  Non-Logged           56   \n",
       "4  e777d1f31d4d955b63d60acc13df336d3903f52ab8f8f4...  Non-Logged            4   \n",
       "\n",
       "                                             history  \\\n",
       "0  c8aab885-433d-4e46-8066-479f40ba7fb2, 68d2039c...   \n",
       "1  3325b5a1-979a-4cb3-82b6-63905c9edbe8, fe856057...   \n",
       "2  04756569-593e-4133-a95a-83d35d43dbbd, 29b6b142...   \n",
       "3  1f2b9c2f-a2d2-4192-b009-09065da8ec23, 04756569...   \n",
       "4  bebdeb3e-1699-43e0-a1b8-989f5a6ab679, f4b484a7...   \n",
       "\n",
       "                                    timestampHistory  \\\n",
       "0        1657146417045, 1657146605778, 1657146698738   \n",
       "1  1656684240278, 1656761266729, 1656761528085, 1...   \n",
       "2  1656678946256, 1656701076495, 1656701882565, 1...   \n",
       "3  1658333312180, 1658404553818, 1658408449062, 1...   \n",
       "4  1658766608801, 1658766608801, 1660084035094, 1...   \n",
       "\n",
       "                               numberOfClicksHistory  \\\n",
       "0                                         76, 38, 41   \n",
       "1  7, 80, 2, 1, 7, 62, 26, 44, 4, 4, 14, 45, 13, ...   \n",
       "2  0, 0, 0, 0, 0, 44, 0, 0, 2, 1, 0, 0, 0, 44, 0,...   \n",
       "3  8, 0, 0, 0, 0, 0, 1, 0, 0, 1, 0, 0, 2, 0, 1, 1...   \n",
       "4                                     579, 579, 7, 2   \n",
       "\n",
       "                                   timeOnPageHistory  \\\n",
       "0                                20380, 21184, 35438   \n",
       "1  6049, 210489, 8672, 10000, 30000, 123007, 9965...   \n",
       "2  311274, 140000, 32515, 157018, 118689, 159243,...   \n",
       "3  182696, 91925, 30000, 273655, 126409, 42980, 1...   \n",
       "4                       801396, 801396, 10000, 10000   \n",
       "\n",
       "                             scrollPercentageHistory  \\\n",
       "0                                 50.3, 18.18, 16.46   \n",
       "1  25.35, 45.66, 35.3, 28.05, 36.53, 47.57, 55.33...   \n",
       "2  67.58, 47.22, 41.52, 63.09, 51.38, 65.11, 71.9...   \n",
       "3  58.26, 72.66, 22.57, 59.89, 40.36, 36.35, 14.7...   \n",
       "4                          78.74, 78.74, 16.71, 9.34   \n",
       "\n",
       "                              pageVisitsCountHistory  \\\n",
       "0                                            2, 1, 1   \n",
       "1  1, 1, 1, 1, 1, 1, 1, 1, 1, 2, 1, 1, 1, 2, 1, 1...   \n",
       "2  1, 1, 1, 1, 1, 1, 1, 1, 2, 1, 1, 1, 1, 1, 1, 1...   \n",
       "3  1, 1, 1, 1, 1, 1, 1, 1, 1, 1, 1, 1, 1, 1, 1, 1...   \n",
       "4                                         7, 7, 1, 1   \n",
       "\n",
       "                                timestampHistory_new  \n",
       "0        1657146417045, 1657146605778, 1657146698738  \n",
       "1  1656684240278, 1656761266729, 1656761528085, 1...  \n",
       "2  1656678946256, 1656701076495, 1656701882565, 1...  \n",
       "3  1658333312180, 1658404553818, 1658408449062, 1...  \n",
       "4  1658766608801, 1658766608801, 1660084035094, 1...  "
      ],
      "text/html": [
       "<div>\n",
       "<style scoped>\n",
       "    .dataframe tbody tr th:only-of-type {\n",
       "        vertical-align: middle;\n",
       "    }\n",
       "\n",
       "    .dataframe tbody tr th {\n",
       "        vertical-align: top;\n",
       "    }\n",
       "\n",
       "    .dataframe thead th {\n",
       "        text-align: right;\n",
       "    }\n",
       "</style>\n",
       "<table border=\"1\" class=\"dataframe\">\n",
       "  <thead>\n",
       "    <tr style=\"text-align: right;\">\n",
       "      <th></th>\n",
       "      <th>userId</th>\n",
       "      <th>userType</th>\n",
       "      <th>historySize</th>\n",
       "      <th>history</th>\n",
       "      <th>timestampHistory</th>\n",
       "      <th>numberOfClicksHistory</th>\n",
       "      <th>timeOnPageHistory</th>\n",
       "      <th>scrollPercentageHistory</th>\n",
       "      <th>pageVisitsCountHistory</th>\n",
       "      <th>timestampHistory_new</th>\n",
       "    </tr>\n",
       "  </thead>\n",
       "  <tbody>\n",
       "    <tr>\n",
       "      <th>0</th>\n",
       "      <td>f98d1132f60d46883ce49583257104d15ce723b3bbda21...</td>\n",
       "      <td>Non-Logged</td>\n",
       "      <td>3</td>\n",
       "      <td>c8aab885-433d-4e46-8066-479f40ba7fb2, 68d2039c...</td>\n",
       "      <td>1657146417045, 1657146605778, 1657146698738</td>\n",
       "      <td>76, 38, 41</td>\n",
       "      <td>20380, 21184, 35438</td>\n",
       "      <td>50.3, 18.18, 16.46</td>\n",
       "      <td>2, 1, 1</td>\n",
       "      <td>1657146417045, 1657146605778, 1657146698738</td>\n",
       "    </tr>\n",
       "    <tr>\n",
       "      <th>1</th>\n",
       "      <td>2c1080975e257ed630e26679edbe4d5c850c65f3e09f65...</td>\n",
       "      <td>Non-Logged</td>\n",
       "      <td>60</td>\n",
       "      <td>3325b5a1-979a-4cb3-82b6-63905c9edbe8, fe856057...</td>\n",
       "      <td>1656684240278, 1656761266729, 1656761528085, 1...</td>\n",
       "      <td>7, 80, 2, 1, 7, 62, 26, 44, 4, 4, 14, 45, 13, ...</td>\n",
       "      <td>6049, 210489, 8672, 10000, 30000, 123007, 9965...</td>\n",
       "      <td>25.35, 45.66, 35.3, 28.05, 36.53, 47.57, 55.33...</td>\n",
       "      <td>1, 1, 1, 1, 1, 1, 1, 1, 1, 2, 1, 1, 1, 2, 1, 1...</td>\n",
       "      <td>1656684240278, 1656761266729, 1656761528085, 1...</td>\n",
       "    </tr>\n",
       "    <tr>\n",
       "      <th>2</th>\n",
       "      <td>0adffd7450d3b9840d8c6215f0569ad942e782fb19b805...</td>\n",
       "      <td>Logged</td>\n",
       "      <td>107</td>\n",
       "      <td>04756569-593e-4133-a95a-83d35d43dbbd, 29b6b142...</td>\n",
       "      <td>1656678946256, 1656701076495, 1656701882565, 1...</td>\n",
       "      <td>0, 0, 0, 0, 0, 44, 0, 0, 2, 1, 0, 0, 0, 44, 0,...</td>\n",
       "      <td>311274, 140000, 32515, 157018, 118689, 159243,...</td>\n",
       "      <td>67.58, 47.22, 41.52, 63.09, 51.38, 65.11, 71.9...</td>\n",
       "      <td>1, 1, 1, 1, 1, 1, 1, 1, 2, 1, 1, 1, 1, 1, 1, 1...</td>\n",
       "      <td>1656678946256, 1656701076495, 1656701882565, 1...</td>\n",
       "    </tr>\n",
       "    <tr>\n",
       "      <th>3</th>\n",
       "      <td>c1e8d644329a78ea1f994292db624c57980b2886cfbc2d...</td>\n",
       "      <td>Non-Logged</td>\n",
       "      <td>56</td>\n",
       "      <td>1f2b9c2f-a2d2-4192-b009-09065da8ec23, 04756569...</td>\n",
       "      <td>1658333312180, 1658404553818, 1658408449062, 1...</td>\n",
       "      <td>8, 0, 0, 0, 0, 0, 1, 0, 0, 1, 0, 0, 2, 0, 1, 1...</td>\n",
       "      <td>182696, 91925, 30000, 273655, 126409, 42980, 1...</td>\n",
       "      <td>58.26, 72.66, 22.57, 59.89, 40.36, 36.35, 14.7...</td>\n",
       "      <td>1, 1, 1, 1, 1, 1, 1, 1, 1, 1, 1, 1, 1, 1, 1, 1...</td>\n",
       "      <td>1658333312180, 1658404553818, 1658408449062, 1...</td>\n",
       "    </tr>\n",
       "    <tr>\n",
       "      <th>4</th>\n",
       "      <td>e777d1f31d4d955b63d60acc13df336d3903f52ab8f8f4...</td>\n",
       "      <td>Non-Logged</td>\n",
       "      <td>4</td>\n",
       "      <td>bebdeb3e-1699-43e0-a1b8-989f5a6ab679, f4b484a7...</td>\n",
       "      <td>1658766608801, 1658766608801, 1660084035094, 1...</td>\n",
       "      <td>579, 579, 7, 2</td>\n",
       "      <td>801396, 801396, 10000, 10000</td>\n",
       "      <td>78.74, 78.74, 16.71, 9.34</td>\n",
       "      <td>7, 7, 1, 1</td>\n",
       "      <td>1658766608801, 1658766608801, 1660084035094, 1...</td>\n",
       "    </tr>\n",
       "  </tbody>\n",
       "</table>\n",
       "</div>"
      ]
     },
     "execution_count": 13,
     "metadata": {},
     "output_type": "execute_result"
    }
   ],
   "execution_count": 13
  },
  {
   "metadata": {},
   "cell_type": "code",
   "source": [
    "user_dict = user_interactions.groupby(\"userId\")[\"history\"].apply(list).to_dict()\n",
    "#split history ,\n",
    "user_dict = {k: [x.split(\",\") for x in v][0] for k, v in user_dict.items()}\n",
    "user_dict = {k: [x.strip() for x in v] for k, v in user_dict.items()}\n",
    "user_dict"
   ],
   "id": "864b2edb6c684384",
   "outputs": [],
   "execution_count": null
  },
  {
   "metadata": {
    "ExecuteTime": {
     "end_time": "2025-02-08T03:54:22.863836Z",
     "start_time": "2025-02-08T03:54:22.728946Z"
    }
   },
   "cell_type": "code",
   "source": "recommend_news_faiss(\"0adffd7450d3b9840d8c6215f0569ad942e782fb19b805367b02b709b73f42a1\", user_dict, index, news_data)",
   "id": "ad16f8283ebb8143",
   "outputs": [
    {
     "name": "stdout",
     "output_type": "stream",
     "text": [
      "107\n",
      "107\n",
      "107\n"
     ]
    },
    {
     "data": {
      "text/plain": [
       "['df8107a6-d4c6-4a81-b616-59954fecf7a5',\n",
       " '1138eccb-bda8-48f9-a3ff-da64725b6b32',\n",
       " '26c6f3db-3bfc-4bfc-b7bc-6b273f457ed0',\n",
       " 'be26528d-71de-4066-8dcd-6aa0df6ed405',\n",
       " 'b9b5215a-a4ac-492c-84a7-10f2ce140bf5',\n",
       " '2595f507-da08-4882-8c95-c0e16a1b64a4',\n",
       " '16162a6c-e495-4ad5-8d64-d7f243baac3c',\n",
       " 'bf000044-173b-4172-837b-71f9bb3b2c30',\n",
       " '2911a7aa-0f44-453f-9563-9973c1e84993',\n",
       " '75925628-7f2c-4378-bcd6-c426acff85ff',\n",
       " 'da98ee61-460a-4070-9baf-cbf6b332f2d8',\n",
       " '5ed87b37-e22a-46ac-a0ac-c1d24d0fdf1a',\n",
       " 'ed080132-3ebe-4535-9b7f-323152187154',\n",
       " '5fb7d709-c205-47c0-8542-5a1610645a5c',\n",
       " '3eb9c23b-541d-4d14-85fc-88da4dcd3473',\n",
       " '42656b0b-0584-4b25-a566-468557a8fd81',\n",
       " '187e8053-8065-4fe5-9028-716fe1f01ea0',\n",
       " '6cba99f0-1a5c-4269-93cf-4d8d7f2137e2',\n",
       " '61174be1-6d7b-4c8b-8d3b-4d147afe26ca',\n",
       " 'c881fdba-e600-4b9b-8c07-8bd6eed8775c',\n",
       " 'd05ff1d1-bc8c-409c-8978-11bad2651fa0',\n",
       " '43ba73b5-56d0-4f04-bbfd-c502722dd478',\n",
       " '59ed3406-f0e4-440f-b243-34752851aedd',\n",
       " '9201771f-0733-48f5-a078-0366f66261f0',\n",
       " '5ff38371-6539-43e6-85d6-e4e28151d24a',\n",
       " 'c34e5d87-9b12-44d5-a96a-f913c2523283',\n",
       " '0e7c78e7-cc2d-4d80-8d75-180d5ddcd60a',\n",
       " 'dd5e9edd-07f4-4995-aba8-3392c5a39d1c',\n",
       " 'fa097951-671c-4a0a-b4b0-8d775493cdbc',\n",
       " '519d8a36-7111-43cf-b5c3-da26a24a8e7c',\n",
       " 'c57f94ca-5def-4493-b07d-d9dab3e2622f',\n",
       " '69cd9b1c-4bbe-40af-80fc-fd83b4133bf4',\n",
       " '30790e4f-281b-4f4f-afd5-66ea1e7d1ec2',\n",
       " '3cd60b4b-83e7-4cfc-8b80-bac985ca8c1f',\n",
       " '1ff59f1d-cbeb-479c-8d48-9f98af4ad1b1',\n",
       " 'f16959e2-198e-4adc-b5ba-33089096a738',\n",
       " 'c87ecc58-40ba-4e63-bc2c-64c7a417fff7',\n",
       " 'f05dd1e2-ac0a-47a0-8a55-88bb9fbb95f0',\n",
       " '53c76bbd-263f-49e2-9374-15d8f11ca16b',\n",
       " '1bdc62e9-39ff-4a8b-8b5d-fd228fdf5793',\n",
       " '974109d0-c634-4f06-b62a-2ec0ebcda329',\n",
       " 'df4b8872-6f24-4cea-8d5f-9f0473069cdf',\n",
       " '4bc4dd29-e57f-4371-930f-457cfe938fb0',\n",
       " 'd685400d-1f56-46b8-a7d4-4a3479e826fb',\n",
       " '59589456-dc15-497b-9a06-07beea5127d5',\n",
       " '9ad30669-dd86-40e3-8218-2410e6440606',\n",
       " 'f25cb683-6d1d-4a6d-93e0-781c677f79fc',\n",
       " 'd0913aca-a3f2-4d04-9b87-d9b7f2226856',\n",
       " 'dd46f7e0-8f83-457c-9c42-b90babac7bcb',\n",
       " '1067beb8-7fab-4d78-9c8d-7b4223eb26ba',\n",
       " '7488cf65-70bb-4fde-b9a6-44e464517251',\n",
       " '18287fd2-3043-4591-a713-e1d13858c729',\n",
       " 'ce929075-3832-481d-83cc-4febe57efcb6',\n",
       " '353a8990-dcad-445c-a7c7-53c645b0663f',\n",
       " '37e90ac6-6050-4e5d-9905-1112828bda1b',\n",
       " 'aad4c0a0-a265-490d-8ba6-8fddad69fe66',\n",
       " '0fcb7757-15d6-4f2a-bfb2-1e500c53dfa5',\n",
       " '90c1531d-2d3b-4016-ab7a-74482b789402',\n",
       " '39f85615-1df4-47d4-8269-1c3826d09506',\n",
       " '393e01d0-60e9-4cc5-b9db-c12e46983a13',\n",
       " '5af0f14a-08b2-4225-87ae-a08cc79344aa',\n",
       " '4fa76377-3d90-4a78-be9a-feb6c0945fc3',\n",
       " '6d5d6712-4a58-4cf2-bd3f-1061c70a396f',\n",
       " '320e9346-1425-4aa2-956e-d34d45d31ac2',\n",
       " '89a252d1-1205-419e-9290-44cd3e3acaf6',\n",
       " '8d2dd133-3b4e-4718-aacf-e6d06240312e',\n",
       " '8a4c1e9e-6ef3-4170-b354-51ba6354210e',\n",
       " 'e2187c57-2b3e-4cf9-bc2d-5702d944329d',\n",
       " 'a3ae7a70-e9b7-40bf-9361-759005563cd4',\n",
       " '3ca947fd-124f-4e98-8133-e378352ae787',\n",
       " 'bcb6d354-5d79-449d-b2cb-f6c1766f70e9',\n",
       " 'c6a840c5-c5f5-4a06-afa6-ba61975c0a44',\n",
       " '88f914d0-5a42-4aef-bf29-7a5de7881374',\n",
       " '1e1b3876-eac3-4aab-aac9-6e9eea85d449',\n",
       " '938549eb-6ec3-470b-aef9-8e820e99811a',\n",
       " '3b4f15db-4bcc-44e9-b427-fd73d2e1d144',\n",
       " '76848938-489a-4596-a7ea-aed2c6b806c4',\n",
       " '8a280c99-1f37-48f1-a1c9-780ea1a7bb05',\n",
       " 'b8814fc2-0236-43db-94a7-724027ebf242',\n",
       " '079308e8-dd6b-49fc-b662-efdfc27cbbc2',\n",
       " '75b0e543-6c14-4afd-a868-30c926bb3702',\n",
       " 'ae37e525-bf1b-4e13-9714-07d7f63f512c',\n",
       " '9a00de20-1676-40ee-8e3a-7c0a9cfdc578',\n",
       " 'b1326011-5d34-4960-a567-4b5c7d2b6c50',\n",
       " '418fd574-7120-4646-8096-c2b9c6af1462',\n",
       " '1b2c3916-7191-403c-8b52-a4ada23e6cbd',\n",
       " 'b12c9908-8f24-4f3a-8664-55c8ed908ea9',\n",
       " 'bbd07329-bb09-44f2-87c7-c7151199862f',\n",
       " 'b0a1d61b-ff54-407e-8d51-2074edcc2d09',\n",
       " 'd205ae57-bb32-4d99-9a28-e970f8822315',\n",
       " '0c8954a1-562e-46b5-8573-242b9a36acd8',\n",
       " '0262271c-7eeb-4682-b500-7f0b3adde6f0',\n",
       " '86b94247-10f2-4e18-bf4f-002abe16b37a',\n",
       " 'fa778aed-68d6-4b5d-a505-eda2c7e007b7',\n",
       " '0348b836-e843-4711-af56-06534d660e06',\n",
       " '4b3e4071-6f14-4cfa-b2dd-7e064a44b3fe',\n",
       " '5b849042-8d59-4416-b1aa-fe5256e92d55',\n",
       " 'b2dccc79-7b8e-443e-9613-5444b64bbbac',\n",
       " '3d449a65-05fa-4acb-8337-104cd5d1bdb3',\n",
       " '499e0cef-bf22-41cb-8875-6f06dee68711',\n",
       " 'e10785fa-60dc-4860-ba96-f2cdc086f6e5',\n",
       " 'ddb466a7-eccf-4d8b-8966-c134da16f004']"
      ]
     },
     "execution_count": 32,
     "metadata": {},
     "output_type": "execute_result"
    }
   ],
   "execution_count": 32
  },
  {
   "metadata": {
    "ExecuteTime": {
     "end_time": "2025-02-08T03:44:20.485279Z",
     "start_time": "2025-02-08T03:44:20.469900Z"
    }
   },
   "cell_type": "code",
   "source": [
    "# Get line of news_data by id\n",
    "news_data[news_data['page'] == 'f4b484a7-38f7-4246-be9e-4e2cd8373bcd']\n",
    "\n",
    "#bebdeb3e-1699-43e0-a1b8-989f5a6ab679, f4b484a7-38f7-4246-be9e-4e2cd8373bcd, esid:conteudo_editorial_g1#materia#https://especiais.g1.globo.com/economia/concursos-e-emprego/lista-de-concursos-publicos-e-vagas-de-emprego/, esid:conteudo_editorial_g1#materia#http://especiais.g1.globo.com/economia/concursos-e-emprego/lista-de-concursos-publicos-e-vagas-de-emprego/"
   ],
   "id": "886e4dd4c2b55a79",
   "outputs": [
    {
     "data": {
      "text/plain": [
       "                                       page  \\\n",
       "88597  f4b484a7-38f7-4246-be9e-4e2cd8373bcd   \n",
       "\n",
       "                                                     url  \\\n",
       "88597  http://g1.globo.com/economia/noticia/2022/08/0...   \n",
       "\n",
       "                          issued                   modified  \\\n",
       "88597  2022-08-04 15:27:29+00:00  2022-09-21 19:02:56+00:00   \n",
       "\n",
       "                                                   title  \\\n",
       "88597  Empréstimo consignado para beneficiários do Au...   \n",
       "\n",
       "                                                    body  \\\n",
       "88597  Piso do Auxílio Brasil será de R$ 600 até o fi...   \n",
       "\n",
       "                                                 caption  \\\n",
       "88597  Governo aprovou Medida Provisória que permite ...   \n",
       "\n",
       "                                                 content  \n",
       "88597  Empréstimo consignado para beneficiários do Au...  "
      ],
      "text/html": [
       "<div>\n",
       "<style scoped>\n",
       "    .dataframe tbody tr th:only-of-type {\n",
       "        vertical-align: middle;\n",
       "    }\n",
       "\n",
       "    .dataframe tbody tr th {\n",
       "        vertical-align: top;\n",
       "    }\n",
       "\n",
       "    .dataframe thead th {\n",
       "        text-align: right;\n",
       "    }\n",
       "</style>\n",
       "<table border=\"1\" class=\"dataframe\">\n",
       "  <thead>\n",
       "    <tr style=\"text-align: right;\">\n",
       "      <th></th>\n",
       "      <th>page</th>\n",
       "      <th>url</th>\n",
       "      <th>issued</th>\n",
       "      <th>modified</th>\n",
       "      <th>title</th>\n",
       "      <th>body</th>\n",
       "      <th>caption</th>\n",
       "      <th>content</th>\n",
       "    </tr>\n",
       "  </thead>\n",
       "  <tbody>\n",
       "    <tr>\n",
       "      <th>88597</th>\n",
       "      <td>f4b484a7-38f7-4246-be9e-4e2cd8373bcd</td>\n",
       "      <td>http://g1.globo.com/economia/noticia/2022/08/0...</td>\n",
       "      <td>2022-08-04 15:27:29+00:00</td>\n",
       "      <td>2022-09-21 19:02:56+00:00</td>\n",
       "      <td>Empréstimo consignado para beneficiários do Au...</td>\n",
       "      <td>Piso do Auxílio Brasil será de R$ 600 até o fi...</td>\n",
       "      <td>Governo aprovou Medida Provisória que permite ...</td>\n",
       "      <td>Empréstimo consignado para beneficiários do Au...</td>\n",
       "    </tr>\n",
       "  </tbody>\n",
       "</table>\n",
       "</div>"
      ]
     },
     "execution_count": 25,
     "metadata": {},
     "output_type": "execute_result"
    }
   ],
   "execution_count": 25
  },
  {
   "metadata": {
    "ExecuteTime": {
     "end_time": "2025-02-08T03:39:35.105897Z",
     "start_time": "2025-02-08T03:39:35.099945Z"
    }
   },
   "cell_type": "code",
   "source": [
    "#faiss.write_index(index, \"faiss_index.bin\")\n",
    "print(\"Índice FAISS salvo com sucesso!\")\n"
   ],
   "id": "be99a1484913143f",
   "outputs": [
    {
     "name": "stdout",
     "output_type": "stream",
     "text": [
      "Índice FAISS salvo com sucesso!\n"
     ]
    }
   ],
   "execution_count": 22
  },
  {
   "metadata": {
    "ExecuteTime": {
     "end_time": "2025-02-08T03:38:19.334198Z",
     "start_time": "2025-02-08T03:38:19.224453Z"
    }
   },
   "cell_type": "code",
   "source": [
    "#import pickle\n",
    "#\n",
    "## Criar um dicionário com o índice FAISS e o vetor TF-IDF\n",
    "#model_data = {\n",
    "#    \"faiss_index\": \"faiss_index.bin\",\n",
    "#    \"vectorizer\": vectorizer,  # TfidfVectorizer treinado\n",
    "#    \"news_index\": news_index,  # Dicionário {news_id: índice}\n",
    "#}\n",
    "#\n",
    "#with open(\"model_data.pkl\", \"wb\") as f:\n",
    "#    pickle.dump(model_data, f)"
   ],
   "id": "676661012d3d06da",
   "outputs": [],
   "execution_count": 19
  },
  {
   "metadata": {},
   "cell_type": "code",
   "outputs": [],
   "execution_count": null,
   "source": [
    "#with open(\"model_data.pkl\", \"rb\") as f:\n",
    "#    model_data = pickle.load(f)\n",
    "#\n",
    "#index = faiss.read_index(model_data[\"faiss_index\"])\n",
    "#vectorizer = model_data[\"vectorizer\"]\n",
    "#news_index = model_data[\"news_index\"]\n",
    "#\n",
    "#print(\"Modelo FAISS e metadados carregados!\")"
   ],
   "id": "2a7eb7dcbff094d5"
  }
 ],
 "metadata": {
  "kernelspec": {
   "display_name": "Python 3",
   "language": "python",
   "name": "python3"
  },
  "language_info": {
   "codemirror_mode": {
    "name": "ipython",
    "version": 2
   },
   "file_extension": ".py",
   "mimetype": "text/x-python",
   "name": "python",
   "nbconvert_exporter": "python",
   "pygments_lexer": "ipython2",
   "version": "2.7.6"
  }
 },
 "nbformat": 4,
 "nbformat_minor": 5
}
