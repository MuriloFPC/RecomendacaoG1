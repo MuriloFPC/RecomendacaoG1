{
 "cells": [
  {
   "metadata": {
    "ExecuteTime": {
     "end_time": "2025-02-08T16:58:01.127659Z",
     "start_time": "2025-02-08T16:58:01.123659Z"
    }
   },
   "cell_type": "code",
   "source": [
    "import pandas as pd\n",
    "import os\n",
    "import matplotlib.pyplot as plt\n",
    "import seaborn as sns\n",
    "import scipy.stats as stats\n",
    "import numpy as np\n"
   ],
   "id": "38d83190cac481ff",
   "outputs": [],
   "execution_count": 38
  },
  {
   "metadata": {
    "ExecuteTime": {
     "end_time": "2025-02-08T16:28:48.966308Z",
     "start_time": "2025-02-08T16:28:48.964293Z"
    }
   },
   "cell_type": "code",
   "source": [
    "news_folder = '../../Data/itens/itens'\n",
    "user_news_folder = '../../Data/files/treino'"
   ],
   "id": "1e96b8c5cc2adc39",
   "outputs": [],
   "execution_count": 6
  },
  {
   "metadata": {
    "ExecuteTime": {
     "end_time": "2025-02-08T16:28:48.974506Z",
     "start_time": "2025-02-08T16:28:48.970314Z"
    }
   },
   "cell_type": "code",
   "source": [
    "def read_all_csv_files_in_folder(folder_path):\n",
    "    # List to hold DataFrames\n",
    "    dataframes = []\n",
    "\n",
    "    # Iterate over all files in the folder\n",
    "    for file in os.listdir(folder_path):\n",
    "        if file.endswith('.csv'):\n",
    "            file_path = os.path.join(folder_path, file)\n",
    "            # Read the CSV file and append the DataFrame to the list\n",
    "            df = pd.read_csv(file_path)\n",
    "            dataframes.append(df)\n",
    "\n",
    "    # Concatenate all DataFrames into a single DataFrame\n",
    "    combined_df = pd.concat(dataframes, ignore_index=True)\n",
    "    return combined_df\n"
   ],
   "id": "d5634e708ae594",
   "outputs": [],
   "execution_count": 7
  },
  {
   "metadata": {
    "ExecuteTime": {
     "end_time": "2025-02-08T16:41:57.299119Z",
     "start_time": "2025-02-08T16:41:57.294633Z"
    }
   },
   "cell_type": "code",
   "source": [
    "def calculate_average(x):\n",
    "    return sum([int(i) for i in x.split(\",\")])/len(x.split(\",\")) if len(x.split(\",\")) > 0 else \"\""
   ],
   "id": "95b0e121bcd3cef0",
   "outputs": [],
   "execution_count": 14
  },
  {
   "metadata": {
    "ExecuteTime": {
     "end_time": "2025-02-08T16:52:40.926865Z",
     "start_time": "2025-02-08T16:52:40.923726Z"
    }
   },
   "cell_type": "code",
   "source": [
    "def show_graph(data, title, labels, colors=None):\n",
    "    if colors is None:\n",
    "        colors = ['blue', 'orange']\n",
    "    plt.bar(labels, data, color=colors)\n",
    "    data.plot(kind='bar', title=title)\n",
    "    plt.show()"
   ],
   "id": "ddcb83db1769c4e",
   "outputs": [],
   "execution_count": 29
  },
  {
   "metadata": {
    "ExecuteTime": {
     "end_time": "2025-02-08T16:43:10.756247Z",
     "start_time": "2025-02-08T16:43:05.659716Z"
    }
   },
   "cell_type": "code",
   "source": [
    "user_interactions = read_all_csv_files_in_folder(user_news_folder)\n",
    "user_interactions.head()"
   ],
   "id": "c4855a9bce44b1af",
   "outputs": [
    {
     "data": {
      "text/plain": [
       "                                              userId    userType  historySize  \\\n",
       "0  f98d1132f60d46883ce49583257104d15ce723b3bbda21...  Non-Logged            3   \n",
       "1  2c1080975e257ed630e26679edbe4d5c850c65f3e09f65...  Non-Logged           60   \n",
       "2  0adffd7450d3b9840d8c6215f0569ad942e782fb19b805...      Logged          107   \n",
       "3  c1e8d644329a78ea1f994292db624c57980b2886cfbc2d...  Non-Logged           56   \n",
       "4  e777d1f31d4d955b63d60acc13df336d3903f52ab8f8f4...  Non-Logged            4   \n",
       "\n",
       "                                             history  \\\n",
       "0  c8aab885-433d-4e46-8066-479f40ba7fb2, 68d2039c...   \n",
       "1  3325b5a1-979a-4cb3-82b6-63905c9edbe8, fe856057...   \n",
       "2  04756569-593e-4133-a95a-83d35d43dbbd, 29b6b142...   \n",
       "3  1f2b9c2f-a2d2-4192-b009-09065da8ec23, 04756569...   \n",
       "4  bebdeb3e-1699-43e0-a1b8-989f5a6ab679, f4b484a7...   \n",
       "\n",
       "                                    timestampHistory  \\\n",
       "0        1657146417045, 1657146605778, 1657146698738   \n",
       "1  1656684240278, 1656761266729, 1656761528085, 1...   \n",
       "2  1656678946256, 1656701076495, 1656701882565, 1...   \n",
       "3  1658333312180, 1658404553818, 1658408449062, 1...   \n",
       "4  1658766608801, 1658766608801, 1660084035094, 1...   \n",
       "\n",
       "                               numberOfClicksHistory  \\\n",
       "0                                         76, 38, 41   \n",
       "1  7, 80, 2, 1, 7, 62, 26, 44, 4, 4, 14, 45, 13, ...   \n",
       "2  0, 0, 0, 0, 0, 44, 0, 0, 2, 1, 0, 0, 0, 44, 0,...   \n",
       "3  8, 0, 0, 0, 0, 0, 1, 0, 0, 1, 0, 0, 2, 0, 1, 1...   \n",
       "4                                     579, 579, 7, 2   \n",
       "\n",
       "                                   timeOnPageHistory  \\\n",
       "0                                20380, 21184, 35438   \n",
       "1  6049, 210489, 8672, 10000, 30000, 123007, 9965...   \n",
       "2  311274, 140000, 32515, 157018, 118689, 159243,...   \n",
       "3  182696, 91925, 30000, 273655, 126409, 42980, 1...   \n",
       "4                       801396, 801396, 10000, 10000   \n",
       "\n",
       "                             scrollPercentageHistory  \\\n",
       "0                                 50.3, 18.18, 16.46   \n",
       "1  25.35, 45.66, 35.3, 28.05, 36.53, 47.57, 55.33...   \n",
       "2  67.58, 47.22, 41.52, 63.09, 51.38, 65.11, 71.9...   \n",
       "3  58.26, 72.66, 22.57, 59.89, 40.36, 36.35, 14.7...   \n",
       "4                          78.74, 78.74, 16.71, 9.34   \n",
       "\n",
       "                              pageVisitsCountHistory  \\\n",
       "0                                            2, 1, 1   \n",
       "1  1, 1, 1, 1, 1, 1, 1, 1, 1, 2, 1, 1, 1, 2, 1, 1...   \n",
       "2  1, 1, 1, 1, 1, 1, 1, 1, 2, 1, 1, 1, 1, 1, 1, 1...   \n",
       "3  1, 1, 1, 1, 1, 1, 1, 1, 1, 1, 1, 1, 1, 1, 1, 1...   \n",
       "4                                         7, 7, 1, 1   \n",
       "\n",
       "                                timestampHistory_new  \n",
       "0        1657146417045, 1657146605778, 1657146698738  \n",
       "1  1656684240278, 1656761266729, 1656761528085, 1...  \n",
       "2  1656678946256, 1656701076495, 1656701882565, 1...  \n",
       "3  1658333312180, 1658404553818, 1658408449062, 1...  \n",
       "4  1658766608801, 1658766608801, 1660084035094, 1...  "
      ],
      "text/html": [
       "<div>\n",
       "<style scoped>\n",
       "    .dataframe tbody tr th:only-of-type {\n",
       "        vertical-align: middle;\n",
       "    }\n",
       "\n",
       "    .dataframe tbody tr th {\n",
       "        vertical-align: top;\n",
       "    }\n",
       "\n",
       "    .dataframe thead th {\n",
       "        text-align: right;\n",
       "    }\n",
       "</style>\n",
       "<table border=\"1\" class=\"dataframe\">\n",
       "  <thead>\n",
       "    <tr style=\"text-align: right;\">\n",
       "      <th></th>\n",
       "      <th>userId</th>\n",
       "      <th>userType</th>\n",
       "      <th>historySize</th>\n",
       "      <th>history</th>\n",
       "      <th>timestampHistory</th>\n",
       "      <th>numberOfClicksHistory</th>\n",
       "      <th>timeOnPageHistory</th>\n",
       "      <th>scrollPercentageHistory</th>\n",
       "      <th>pageVisitsCountHistory</th>\n",
       "      <th>timestampHistory_new</th>\n",
       "    </tr>\n",
       "  </thead>\n",
       "  <tbody>\n",
       "    <tr>\n",
       "      <th>0</th>\n",
       "      <td>f98d1132f60d46883ce49583257104d15ce723b3bbda21...</td>\n",
       "      <td>Non-Logged</td>\n",
       "      <td>3</td>\n",
       "      <td>c8aab885-433d-4e46-8066-479f40ba7fb2, 68d2039c...</td>\n",
       "      <td>1657146417045, 1657146605778, 1657146698738</td>\n",
       "      <td>76, 38, 41</td>\n",
       "      <td>20380, 21184, 35438</td>\n",
       "      <td>50.3, 18.18, 16.46</td>\n",
       "      <td>2, 1, 1</td>\n",
       "      <td>1657146417045, 1657146605778, 1657146698738</td>\n",
       "    </tr>\n",
       "    <tr>\n",
       "      <th>1</th>\n",
       "      <td>2c1080975e257ed630e26679edbe4d5c850c65f3e09f65...</td>\n",
       "      <td>Non-Logged</td>\n",
       "      <td>60</td>\n",
       "      <td>3325b5a1-979a-4cb3-82b6-63905c9edbe8, fe856057...</td>\n",
       "      <td>1656684240278, 1656761266729, 1656761528085, 1...</td>\n",
       "      <td>7, 80, 2, 1, 7, 62, 26, 44, 4, 4, 14, 45, 13, ...</td>\n",
       "      <td>6049, 210489, 8672, 10000, 30000, 123007, 9965...</td>\n",
       "      <td>25.35, 45.66, 35.3, 28.05, 36.53, 47.57, 55.33...</td>\n",
       "      <td>1, 1, 1, 1, 1, 1, 1, 1, 1, 2, 1, 1, 1, 2, 1, 1...</td>\n",
       "      <td>1656684240278, 1656761266729, 1656761528085, 1...</td>\n",
       "    </tr>\n",
       "    <tr>\n",
       "      <th>2</th>\n",
       "      <td>0adffd7450d3b9840d8c6215f0569ad942e782fb19b805...</td>\n",
       "      <td>Logged</td>\n",
       "      <td>107</td>\n",
       "      <td>04756569-593e-4133-a95a-83d35d43dbbd, 29b6b142...</td>\n",
       "      <td>1656678946256, 1656701076495, 1656701882565, 1...</td>\n",
       "      <td>0, 0, 0, 0, 0, 44, 0, 0, 2, 1, 0, 0, 0, 44, 0,...</td>\n",
       "      <td>311274, 140000, 32515, 157018, 118689, 159243,...</td>\n",
       "      <td>67.58, 47.22, 41.52, 63.09, 51.38, 65.11, 71.9...</td>\n",
       "      <td>1, 1, 1, 1, 1, 1, 1, 1, 2, 1, 1, 1, 1, 1, 1, 1...</td>\n",
       "      <td>1656678946256, 1656701076495, 1656701882565, 1...</td>\n",
       "    </tr>\n",
       "    <tr>\n",
       "      <th>3</th>\n",
       "      <td>c1e8d644329a78ea1f994292db624c57980b2886cfbc2d...</td>\n",
       "      <td>Non-Logged</td>\n",
       "      <td>56</td>\n",
       "      <td>1f2b9c2f-a2d2-4192-b009-09065da8ec23, 04756569...</td>\n",
       "      <td>1658333312180, 1658404553818, 1658408449062, 1...</td>\n",
       "      <td>8, 0, 0, 0, 0, 0, 1, 0, 0, 1, 0, 0, 2, 0, 1, 1...</td>\n",
       "      <td>182696, 91925, 30000, 273655, 126409, 42980, 1...</td>\n",
       "      <td>58.26, 72.66, 22.57, 59.89, 40.36, 36.35, 14.7...</td>\n",
       "      <td>1, 1, 1, 1, 1, 1, 1, 1, 1, 1, 1, 1, 1, 1, 1, 1...</td>\n",
       "      <td>1658333312180, 1658404553818, 1658408449062, 1...</td>\n",
       "    </tr>\n",
       "    <tr>\n",
       "      <th>4</th>\n",
       "      <td>e777d1f31d4d955b63d60acc13df336d3903f52ab8f8f4...</td>\n",
       "      <td>Non-Logged</td>\n",
       "      <td>4</td>\n",
       "      <td>bebdeb3e-1699-43e0-a1b8-989f5a6ab679, f4b484a7...</td>\n",
       "      <td>1658766608801, 1658766608801, 1660084035094, 1...</td>\n",
       "      <td>579, 579, 7, 2</td>\n",
       "      <td>801396, 801396, 10000, 10000</td>\n",
       "      <td>78.74, 78.74, 16.71, 9.34</td>\n",
       "      <td>7, 7, 1, 1</td>\n",
       "      <td>1658766608801, 1658766608801, 1660084035094, 1...</td>\n",
       "    </tr>\n",
       "  </tbody>\n",
       "</table>\n",
       "</div>"
      ]
     },
     "execution_count": 17,
     "metadata": {},
     "output_type": "execute_result"
    }
   ],
   "execution_count": 17
  },
  {
   "metadata": {
    "collapsed": true
   },
   "cell_type": "code",
   "source": [
    "news_data = read_all_csv_files_in_folder(news_folder)\n",
    "news_data.head()"
   ],
   "id": "initial_id",
   "outputs": [],
   "execution_count": null
  },
  {
   "metadata": {
    "ExecuteTime": {
     "end_time": "2025-02-08T16:43:22.545209Z",
     "start_time": "2025-02-08T16:43:21.324242Z"
    }
   },
   "cell_type": "code",
   "source": "user_interactions[\"numberOfClicksHistoryAvarage\"] = user_interactions[\"numberOfClicksHistory\"].apply(calculate_average)",
   "id": "a0cf77d6529e59bc",
   "outputs": [],
   "execution_count": 18
  },
  {
   "metadata": {
    "ExecuteTime": {
     "end_time": "2025-02-08T16:45:01.571883Z",
     "start_time": "2025-02-08T16:45:01.493878Z"
    }
   },
   "cell_type": "code",
   "source": [
    "columns = list(user_interactions.columns)\n",
    "number_of_clicks_index = columns.index(\"numberOfClicksHistory\")\n",
    "columns.insert(number_of_clicks_index + 1, columns.pop(columns.index(\"numberOfClicksHistoryAvarage\")))\n",
    "\n",
    "# Apply the new column order to the DataFrame\n",
    "user_interactions = user_interactions[columns]"
   ],
   "id": "d66f1745c908b1b",
   "outputs": [],
   "execution_count": 20
  },
  {
   "metadata": {
    "ExecuteTime": {
     "end_time": "2025-02-08T16:45:03.197587Z",
     "start_time": "2025-02-08T16:45:03.189135Z"
    }
   },
   "cell_type": "code",
   "source": [
    "\n",
    "# Display the DataFrame to verify the new order\n",
    "user_interactions.head()"
   ],
   "id": "f5010b14fa8577e3",
   "outputs": [
    {
     "data": {
      "text/plain": [
       "                                              userId    userType  historySize  \\\n",
       "0  f98d1132f60d46883ce49583257104d15ce723b3bbda21...  Non-Logged            3   \n",
       "1  2c1080975e257ed630e26679edbe4d5c850c65f3e09f65...  Non-Logged           60   \n",
       "2  0adffd7450d3b9840d8c6215f0569ad942e782fb19b805...      Logged          107   \n",
       "3  c1e8d644329a78ea1f994292db624c57980b2886cfbc2d...  Non-Logged           56   \n",
       "4  e777d1f31d4d955b63d60acc13df336d3903f52ab8f8f4...  Non-Logged            4   \n",
       "\n",
       "                                             history  \\\n",
       "0  c8aab885-433d-4e46-8066-479f40ba7fb2, 68d2039c...   \n",
       "1  3325b5a1-979a-4cb3-82b6-63905c9edbe8, fe856057...   \n",
       "2  04756569-593e-4133-a95a-83d35d43dbbd, 29b6b142...   \n",
       "3  1f2b9c2f-a2d2-4192-b009-09065da8ec23, 04756569...   \n",
       "4  bebdeb3e-1699-43e0-a1b8-989f5a6ab679, f4b484a7...   \n",
       "\n",
       "                                    timestampHistory  \\\n",
       "0        1657146417045, 1657146605778, 1657146698738   \n",
       "1  1656684240278, 1656761266729, 1656761528085, 1...   \n",
       "2  1656678946256, 1656701076495, 1656701882565, 1...   \n",
       "3  1658333312180, 1658404553818, 1658408449062, 1...   \n",
       "4  1658766608801, 1658766608801, 1660084035094, 1...   \n",
       "\n",
       "                               numberOfClicksHistory  \\\n",
       "0                                         76, 38, 41   \n",
       "1  7, 80, 2, 1, 7, 62, 26, 44, 4, 4, 14, 45, 13, ...   \n",
       "2  0, 0, 0, 0, 0, 44, 0, 0, 2, 1, 0, 0, 0, 44, 0,...   \n",
       "3  8, 0, 0, 0, 0, 0, 1, 0, 0, 1, 0, 0, 2, 0, 1, 1...   \n",
       "4                                     579, 579, 7, 2   \n",
       "\n",
       "   numberOfClicksHistoryAvarage  \\\n",
       "0                     51.666667   \n",
       "1                     28.133333   \n",
       "2                      8.785047   \n",
       "3                      1.000000   \n",
       "4                    291.750000   \n",
       "\n",
       "                                   timeOnPageHistory  \\\n",
       "0                                20380, 21184, 35438   \n",
       "1  6049, 210489, 8672, 10000, 30000, 123007, 9965...   \n",
       "2  311274, 140000, 32515, 157018, 118689, 159243,...   \n",
       "3  182696, 91925, 30000, 273655, 126409, 42980, 1...   \n",
       "4                       801396, 801396, 10000, 10000   \n",
       "\n",
       "                             scrollPercentageHistory  \\\n",
       "0                                 50.3, 18.18, 16.46   \n",
       "1  25.35, 45.66, 35.3, 28.05, 36.53, 47.57, 55.33...   \n",
       "2  67.58, 47.22, 41.52, 63.09, 51.38, 65.11, 71.9...   \n",
       "3  58.26, 72.66, 22.57, 59.89, 40.36, 36.35, 14.7...   \n",
       "4                          78.74, 78.74, 16.71, 9.34   \n",
       "\n",
       "                              pageVisitsCountHistory  \\\n",
       "0                                            2, 1, 1   \n",
       "1  1, 1, 1, 1, 1, 1, 1, 1, 1, 2, 1, 1, 1, 2, 1, 1...   \n",
       "2  1, 1, 1, 1, 1, 1, 1, 1, 2, 1, 1, 1, 1, 1, 1, 1...   \n",
       "3  1, 1, 1, 1, 1, 1, 1, 1, 1, 1, 1, 1, 1, 1, 1, 1...   \n",
       "4                                         7, 7, 1, 1   \n",
       "\n",
       "                                timestampHistory_new  \n",
       "0        1657146417045, 1657146605778, 1657146698738  \n",
       "1  1656684240278, 1656761266729, 1656761528085, 1...  \n",
       "2  1656678946256, 1656701076495, 1656701882565, 1...  \n",
       "3  1658333312180, 1658404553818, 1658408449062, 1...  \n",
       "4  1658766608801, 1658766608801, 1660084035094, 1...  "
      ],
      "text/html": [
       "<div>\n",
       "<style scoped>\n",
       "    .dataframe tbody tr th:only-of-type {\n",
       "        vertical-align: middle;\n",
       "    }\n",
       "\n",
       "    .dataframe tbody tr th {\n",
       "        vertical-align: top;\n",
       "    }\n",
       "\n",
       "    .dataframe thead th {\n",
       "        text-align: right;\n",
       "    }\n",
       "</style>\n",
       "<table border=\"1\" class=\"dataframe\">\n",
       "  <thead>\n",
       "    <tr style=\"text-align: right;\">\n",
       "      <th></th>\n",
       "      <th>userId</th>\n",
       "      <th>userType</th>\n",
       "      <th>historySize</th>\n",
       "      <th>history</th>\n",
       "      <th>timestampHistory</th>\n",
       "      <th>numberOfClicksHistory</th>\n",
       "      <th>numberOfClicksHistoryAvarage</th>\n",
       "      <th>timeOnPageHistory</th>\n",
       "      <th>scrollPercentageHistory</th>\n",
       "      <th>pageVisitsCountHistory</th>\n",
       "      <th>timestampHistory_new</th>\n",
       "    </tr>\n",
       "  </thead>\n",
       "  <tbody>\n",
       "    <tr>\n",
       "      <th>0</th>\n",
       "      <td>f98d1132f60d46883ce49583257104d15ce723b3bbda21...</td>\n",
       "      <td>Non-Logged</td>\n",
       "      <td>3</td>\n",
       "      <td>c8aab885-433d-4e46-8066-479f40ba7fb2, 68d2039c...</td>\n",
       "      <td>1657146417045, 1657146605778, 1657146698738</td>\n",
       "      <td>76, 38, 41</td>\n",
       "      <td>51.666667</td>\n",
       "      <td>20380, 21184, 35438</td>\n",
       "      <td>50.3, 18.18, 16.46</td>\n",
       "      <td>2, 1, 1</td>\n",
       "      <td>1657146417045, 1657146605778, 1657146698738</td>\n",
       "    </tr>\n",
       "    <tr>\n",
       "      <th>1</th>\n",
       "      <td>2c1080975e257ed630e26679edbe4d5c850c65f3e09f65...</td>\n",
       "      <td>Non-Logged</td>\n",
       "      <td>60</td>\n",
       "      <td>3325b5a1-979a-4cb3-82b6-63905c9edbe8, fe856057...</td>\n",
       "      <td>1656684240278, 1656761266729, 1656761528085, 1...</td>\n",
       "      <td>7, 80, 2, 1, 7, 62, 26, 44, 4, 4, 14, 45, 13, ...</td>\n",
       "      <td>28.133333</td>\n",
       "      <td>6049, 210489, 8672, 10000, 30000, 123007, 9965...</td>\n",
       "      <td>25.35, 45.66, 35.3, 28.05, 36.53, 47.57, 55.33...</td>\n",
       "      <td>1, 1, 1, 1, 1, 1, 1, 1, 1, 2, 1, 1, 1, 2, 1, 1...</td>\n",
       "      <td>1656684240278, 1656761266729, 1656761528085, 1...</td>\n",
       "    </tr>\n",
       "    <tr>\n",
       "      <th>2</th>\n",
       "      <td>0adffd7450d3b9840d8c6215f0569ad942e782fb19b805...</td>\n",
       "      <td>Logged</td>\n",
       "      <td>107</td>\n",
       "      <td>04756569-593e-4133-a95a-83d35d43dbbd, 29b6b142...</td>\n",
       "      <td>1656678946256, 1656701076495, 1656701882565, 1...</td>\n",
       "      <td>0, 0, 0, 0, 0, 44, 0, 0, 2, 1, 0, 0, 0, 44, 0,...</td>\n",
       "      <td>8.785047</td>\n",
       "      <td>311274, 140000, 32515, 157018, 118689, 159243,...</td>\n",
       "      <td>67.58, 47.22, 41.52, 63.09, 51.38, 65.11, 71.9...</td>\n",
       "      <td>1, 1, 1, 1, 1, 1, 1, 1, 2, 1, 1, 1, 1, 1, 1, 1...</td>\n",
       "      <td>1656678946256, 1656701076495, 1656701882565, 1...</td>\n",
       "    </tr>\n",
       "    <tr>\n",
       "      <th>3</th>\n",
       "      <td>c1e8d644329a78ea1f994292db624c57980b2886cfbc2d...</td>\n",
       "      <td>Non-Logged</td>\n",
       "      <td>56</td>\n",
       "      <td>1f2b9c2f-a2d2-4192-b009-09065da8ec23, 04756569...</td>\n",
       "      <td>1658333312180, 1658404553818, 1658408449062, 1...</td>\n",
       "      <td>8, 0, 0, 0, 0, 0, 1, 0, 0, 1, 0, 0, 2, 0, 1, 1...</td>\n",
       "      <td>1.000000</td>\n",
       "      <td>182696, 91925, 30000, 273655, 126409, 42980, 1...</td>\n",
       "      <td>58.26, 72.66, 22.57, 59.89, 40.36, 36.35, 14.7...</td>\n",
       "      <td>1, 1, 1, 1, 1, 1, 1, 1, 1, 1, 1, 1, 1, 1, 1, 1...</td>\n",
       "      <td>1658333312180, 1658404553818, 1658408449062, 1...</td>\n",
       "    </tr>\n",
       "    <tr>\n",
       "      <th>4</th>\n",
       "      <td>e777d1f31d4d955b63d60acc13df336d3903f52ab8f8f4...</td>\n",
       "      <td>Non-Logged</td>\n",
       "      <td>4</td>\n",
       "      <td>bebdeb3e-1699-43e0-a1b8-989f5a6ab679, f4b484a7...</td>\n",
       "      <td>1658766608801, 1658766608801, 1660084035094, 1...</td>\n",
       "      <td>579, 579, 7, 2</td>\n",
       "      <td>291.750000</td>\n",
       "      <td>801396, 801396, 10000, 10000</td>\n",
       "      <td>78.74, 78.74, 16.71, 9.34</td>\n",
       "      <td>7, 7, 1, 1</td>\n",
       "      <td>1658766608801, 1658766608801, 1660084035094, 1...</td>\n",
       "    </tr>\n",
       "  </tbody>\n",
       "</table>\n",
       "</div>"
      ]
     },
     "execution_count": 21,
     "metadata": {},
     "output_type": "execute_result"
    }
   ],
   "execution_count": 21
  },
  {
   "metadata": {
    "ExecuteTime": {
     "end_time": "2025-02-08T16:46:47.001970Z",
     "start_time": "2025-02-08T16:46:46.996089Z"
    }
   },
   "cell_type": "code",
   "source": [
    "avarageClicks = float(user_interactions[\"numberOfClicksHistoryAvarage\"].mean())\n",
    "avarageClicks"
   ],
   "id": "6ff17e47cb2d4a0f",
   "outputs": [
    {
     "data": {
      "text/plain": [
       "10.665912037198524"
      ]
     },
     "execution_count": 26,
     "metadata": {},
     "output_type": "execute_result"
    }
   ],
   "execution_count": 26
  },
  {
   "metadata": {
    "ExecuteTime": {
     "end_time": "2025-02-08T16:48:33.887961Z",
     "start_time": "2025-02-08T16:48:33.792243Z"
    }
   },
   "cell_type": "code",
   "source": [
    "#get how many users have more than the avarage of clicks\n",
    "moreClicks = user_interactions[user_interactions[\"numberOfClicksHistoryAvarage\"] > avarageClicks].shape[0]\n",
    "lessClicks = user_interactions[user_interactions[\"numberOfClicksHistoryAvarage\"] <= avarageClicks].shape[0]"
   ],
   "id": "b51f2deefbbea0f2",
   "outputs": [
    {
     "data": {
      "text/plain": [
       "(165689, 412253)"
      ]
     },
     "execution_count": 28,
     "metadata": {},
     "output_type": "execute_result"
    }
   ],
   "execution_count": 28
  },
  {
   "metadata": {
    "ExecuteTime": {
     "end_time": "2025-02-08T16:53:06.777352Z",
     "start_time": "2025-02-08T16:53:06.708884Z"
    }
   },
   "cell_type": "code",
   "source": "show_graph(pd.Series([moreClicks, lessClicks]), \"Users with more clicks than avarage\", [\"More Clicks\", \"Less Clicks\"])",
   "id": "587f3fa9816ddee3",
   "outputs": [
    {
     "data": {
      "text/plain": [
       "<Figure size 640x480 with 1 Axes>"
      ],
      "image/png": "[encoded data removed]"
     },
     "metadata": {},
     "output_type": "display_data"
    }
   ],
   "execution_count": 32
  },
  {
   "metadata": {
    "ExecuteTime": {
     "end_time": "2025-02-08T16:54:32.207802Z",
     "start_time": "2025-02-08T16:54:32.155872Z"
    }
   },
   "cell_type": "code",
   "source": [
    "# Data for the bar chart\n",
    "labels = ['More Clicks', 'Less Clicks']\n",
    "counts = [moreClicks, lessClicks]\n",
    "\n",
    "# Create the bar chart\n",
    "bars = plt.bar(labels, counts, color=['blue', 'orange'])\n",
    "\n",
    "# Add title and labels\n",
    "plt.title('Number of Users with More and Less Clicks than the Average')\n",
    "plt.xlabel('Category')\n",
    "plt.ylabel('Number of Users')\n",
    "\n",
    "# Annotate the bars with the values\n",
    "for bar in bars:\n",
    "    yval = bar.get_height()\n",
    "    plt.text(bar.get_x() + bar.get_width()/2, yval, int(yval), va='bottom')  # va: vertical alignment\n",
    "\n",
    "# Display the chart\n",
    "plt.show()"
   ],
   "id": "635b06e9523f34c3",
   "outputs": [
    {
     "data": {
      "text/plain": [
       "<Figure size 640x480 with 1 Axes>"
      ],
      "image/png": "[encoded data removed]"
     },
     "metadata": {},
     "output_type": "display_data"
    }
   ],
   "execution_count": 34
  },
  {
   "metadata": {
    "ExecuteTime": {
     "end_time": "2025-02-08T16:56:19.347535Z",
     "start_time": "2025-02-08T16:56:10.253710Z"
    }
   },
   "cell_type": "code",
   "source": [
    "# Extract the number of clicks history into a list\n",
    "clicks_data = user_interactions[\"numberOfClicksHistory\"].apply(lambda x: [int(i) for i in x.split(\",\")]).explode().astype(int)\n",
    "\n",
    "# Plot the bell curve\n",
    "sns.histplot(clicks_data, kde=True, bins=30, color='blue')\n",
    "\n",
    "# Add title and labels\n",
    "plt.title('Distribution of Clicks')\n",
    "plt.xlabel('Number of Clicks')\n",
    "plt.ylabel('Frequency')\n",
    "\n",
    "# Display the plot\n",
    "plt.show()"
   ],
   "id": "1bdf06bb40fd59b2",
   "outputs": [
    {
     "data": {
      "text/plain": [
       "<Figure size 640x480 with 1 Axes>"
      ],
      "image/png": "[encoded data removed]"
     },
     "metadata": {},
     "output_type": "display_data"
    }
   ],
   "execution_count": 36
  },
  {
   "metadata": {
    "ExecuteTime": {
     "end_time": "2025-02-08T16:58:38.415354Z",
     "start_time": "2025-02-08T16:58:04.540326Z"
    }
   },
   "cell_type": "code",
   "source": [
    "clicks_data = user_interactions[\"numberOfClicksHistory\"].apply(lambda x: [int(i) for i in x.split(\",\")]).explode().astype(int)\n",
    "\n",
    "# Calculate Q1 (25th percentile) and Q3 (75th percentile)\n",
    "Q1 = np.percentile(clicks_data, 25)\n",
    "Q3 = np.percentile(clicks_data, 75)\n",
    "\n",
    "# Calculate the IQR\n",
    "IQR = Q3 - Q1\n",
    "\n",
    "# Define the lower and upper bounds for outliers\n",
    "lower_bound = Q1 - 1.5 * IQR\n",
    "upper_bound = Q3 + 1.5 * IQR\n",
    "\n",
    "# Filter out the outliers\n",
    "filtered_clicks_data = clicks_data[(clicks_data >= lower_bound) & (clicks_data <= upper_bound)]\n",
    "\n",
    "# Plot the bell curve for the filtered data\n",
    "sns.histplot(filtered_clicks_data, kde=True, bins=30, color='blue')\n",
    "\n",
    "# Add title and labels\n",
    "plt.title('Distribution of Clicks (Outliers Removed)')\n",
    "plt.xlabel('Number of Clicks')\n",
    "plt.ylabel('Frequency')\n",
    "\n",
    "# Display the plot\n",
    "plt.show()"
   ],
   "id": "ac733dbcbcf70be0",
   "outputs": [
    {
     "data": {
      "text/plain": [
       "<Figure size 640x480 with 1 Axes>"
      ],
      "image/png": "[encoded data removed]"
     },
     "metadata": {},
     "output_type": "display_data"
    }
   ],
   "execution_count": 39
  }
 ],
 "metadata": {
  "kernelspec": {
   "display_name": "Python 3",
   "language": "python",
   "name": "python3"
  },
  "language_info": {
   "codemirror_mode": {
    "name": "ipython",
    "version": 2
   },
   "file_extension": ".py",
   "mimetype": "text/x-python",
   "name": "python",
   "nbconvert_exporter": "python",
   "pygments_lexer": "ipython2",
   "version": "2.7.6"
  }
 },
 "nbformat": 4,
 "nbformat_minor": 5
}
